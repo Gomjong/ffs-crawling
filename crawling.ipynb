{
 "cells": [
  {
   "cell_type": "markdown",
   "id": "5ddcd78e",
   "metadata": {},
   "source": [
    "### 기본 세팅"
   ]
  },
  {
   "cell_type": "code",
   "execution_count": 97,
   "id": "11547f17",
   "metadata": {},
   "outputs": [
    {
     "ename": "ModuleNotFoundError",
     "evalue": "No module named 'git'",
     "output_type": "error",
     "traceback": [
      "\u001b[1;31m---------------------------------------------------------------------------\u001b[0m",
      "\u001b[1;31mModuleNotFoundError\u001b[0m                       Traceback (most recent call last)",
      "Input \u001b[1;32mIn [97]\u001b[0m, in \u001b[0;36m<cell line: 1>\u001b[1;34m()\u001b[0m\n\u001b[1;32m----> 1\u001b[0m \u001b[38;5;28;01mimport\u001b[39;00m \u001b[38;5;21;01mgit\u001b[39;00m\n",
      "\u001b[1;31mModuleNotFoundError\u001b[0m: No module named 'git'"
     ]
    }
   ],
   "source": [
    "import git"
   ]
  },
  {
   "cell_type": "code",
   "execution_count": 1,
   "id": "ce902058",
   "metadata": {},
   "outputs": [],
   "source": [
    "import time\n",
    "import pandas as pd\n",
    "import re\n",
    "import ast\n",
    "\n",
    "from selenium import webdriver\n",
    "from kss import split_sentences"
   ]
  },
  {
   "cell_type": "code",
   "execution_count": 18,
   "id": "9b6330ed",
   "metadata": {
    "scrolled": false
   },
   "outputs": [
    {
     "name": "stdout",
     "output_type": "stream",
     "text": [
      "Collecting webdriver_manager\n",
      "  Downloading webdriver_manager-3.8.3-py2.py3-none-any.whl (26 kB)\n",
      "Requirement already satisfied: requests in c:\\users\\bell\\anaconda3\\lib\\site-packages (from webdriver_manager) (2.28.1)\n",
      "Requirement already satisfied: tqdm in c:\\users\\bell\\anaconda3\\lib\\site-packages (from webdriver_manager) (4.64.0)\n",
      "Collecting python-dotenv\n",
      "  Downloading python_dotenv-0.21.0-py3-none-any.whl (18 kB)\n",
      "Requirement already satisfied: charset-normalizer<3,>=2 in c:\\users\\bell\\anaconda3\\lib\\site-packages (from requests->webdriver_manager) (2.0.4)\n",
      "Requirement already satisfied: certifi>=2017.4.17 in c:\\users\\bell\\anaconda3\\lib\\site-packages (from requests->webdriver_manager) (2022.9.14)\n",
      "Requirement already satisfied: urllib3<1.27,>=1.21.1 in c:\\users\\bell\\anaconda3\\lib\\site-packages (from requests->webdriver_manager) (1.26.11)\n",
      "Requirement already satisfied: idna<4,>=2.5 in c:\\users\\bell\\anaconda3\\lib\\site-packages (from requests->webdriver_manager) (3.3)\n",
      "Requirement already satisfied: colorama in c:\\users\\bell\\anaconda3\\lib\\site-packages (from tqdm->webdriver_manager) (0.4.5)\n",
      "Installing collected packages: python-dotenv, webdriver_manager\n",
      "Successfully installed python-dotenv-0.21.0 webdriver_manager-3.8.3\n",
      "Note: you may need to restart the kernel to use updated packages.\n"
     ]
    }
   ],
   "source": [
    "pip install webdriver_manager"
   ]
  },
  {
   "cell_type": "code",
   "execution_count": 95,
   "id": "b1813db3",
   "metadata": {},
   "outputs": [],
   "source": [
    "import requests\n",
    "import re\n",
    "from bs4 import BeautifulSoup\n",
    "import pandas as pd\n",
    "import csv"
   ]
  },
  {
   "cell_type": "code",
   "execution_count": 21,
   "id": "5fb2e3d1",
   "metadata": {},
   "outputs": [],
   "source": [
    "import time\n",
    "from selenium import webdriver\n",
    "from selenium.webdriver.common.by import By\n",
    "from selenium.webdriver.chrome.service import Service\n",
    "from webdriver_manager.chrome import ChromeDriverManager"
   ]
  },
  {
   "cell_type": "markdown",
   "id": "b88a1a5e",
   "metadata": {},
   "source": [
    "### 보이스피싱 텍스트 크롤링"
   ]
  },
  {
   "cell_type": "code",
   "execution_count": null,
   "id": "5898fce4",
   "metadata": {},
   "outputs": [],
   "source": []
  },
  {
   "cell_type": "code",
   "execution_count": 93,
   "id": "6d0f3edf",
   "metadata": {},
   "outputs": [],
   "source": [
    "def get_대출사기형_info():\n",
    "    \n",
    "    list_url     = []     # 주소 리스트\n",
    "    list_content = []     # 본문 리스트\n",
    "    \n",
    "    main_url = \"https://www.fss.or.kr/fss/bbs/B0000206/list.do?menuNo=200690&bbsId=&cl1Cd=&pageIndex=1&sdate=&edate=&searchCnd=1&searchWrd=\"\n",
    "    # 드라이버 실행\n",
    "    #driver = webdriver.Chrome(service=Service(ChromeDriverManager().install()))\n",
    "    #driver.implicitly_wait(3)\n",
    "    #sleeptime = 0.5     # 프로세스 일시 정지 시간\n",
    "\n",
    "\n",
    "    # 페이지를 돌며 게시글 주소 크롤링\n",
    "    for page in range(1, 20, 1):\n",
    "        try:\n",
    "            # 페이지 이동\n",
    "            driver.get(f'https://www.fss.or.kr/fss/bbs/B0000206/list.do?menuNo=200690&bbsId=&cl1Cd=&pageIndex={page}&sdate=&edate=&searchCnd=1&searchWrd=')\n",
    "            time.sleep(sleeptime)\n",
    "            \n",
    "            # 주소 크롤링\n",
    "            current = driver.find_elements_by_css_selector('#content > div.bd-list > table > tbody > tr:nth-child(1) > td.title > a')\n",
    "            for url in current:\n",
    "                list_url.append(url.get_attribute('href'))\n",
    "                print(\"2\")\n",
    "        except:\n",
    "            pass\n",
    "\n",
    "\n",
    "    # 게시글을 돌며 텍스트 크롤링\n",
    "    for url in list_url:\n",
    "        try:\n",
    "            # 게시물 이동\n",
    "            driver.get(url)\n",
    "            time.sleep(sleeptime)\n",
    "\n",
    "            \n",
    "            # 텍스트 크롤링\n",
    "            cur_content = []\n",
    "            current = driver.find_elements_by_css_selector('#contents > div > table > tbody > tr > td > div > p')\n",
    "            print(\".\")\n",
    "            # 게시글에 텍스트가 없는 경우\n",
    "            if len(current) == 0:\n",
    "                list_content.append(cur_content)\n",
    "                continue\n",
    "\n",
    "            # 게시글에 텍스트가 있는 경우\n",
    "            for sentence in current:\n",
    "                cur_content.append(sentence.text)\n",
    "            list_content.append(cur_content)\n",
    "        except:\n",
    "            pass\n",
    "    driver.close()\n",
    "\n",
    "\n",
    "    voicephishing_대출사기형 = pd.DataFrame({'주소': list_url, '내용': list_content})\n",
    "    return voicephishing_대출사기형"
   ]
  },
  {
   "cell_type": "code",
   "execution_count": 94,
   "id": "2b6859ac",
   "metadata": {},
   "outputs": [],
   "source": [
    "voicephishing_대출사기형 = get_대출사기형_info()\n",
    "#voicephishing_대출사기형 = pd.read_csv('voicephishing_대출사기형.csv', index_col=0)"
   ]
  },
  {
   "cell_type": "code",
   "execution_count": 86,
   "id": "c7343c7b",
   "metadata": {
    "scrolled": true
   },
   "outputs": [
    {
     "data": {
      "text/html": [
       "<div>\n",
       "<style scoped>\n",
       "    .dataframe tbody tr th:only-of-type {\n",
       "        vertical-align: middle;\n",
       "    }\n",
       "\n",
       "    .dataframe tbody tr th {\n",
       "        vertical-align: top;\n",
       "    }\n",
       "\n",
       "    .dataframe thead th {\n",
       "        text-align: right;\n",
       "    }\n",
       "</style>\n",
       "<table border=\"1\" class=\"dataframe\">\n",
       "  <thead>\n",
       "    <tr style=\"text-align: right;\">\n",
       "      <th></th>\n",
       "      <th>주소</th>\n",
       "      <th>내용</th>\n",
       "    </tr>\n",
       "  </thead>\n",
       "  <tbody>\n",
       "  </tbody>\n",
       "</table>\n",
       "</div>"
      ],
      "text/plain": [
       "Empty DataFrame\n",
       "Columns: [주소, 내용]\n",
       "Index: []"
      ]
     },
     "execution_count": 86,
     "metadata": {},
     "output_type": "execute_result"
    }
   ],
   "source": [
    "voicephishing_대출사기형.head(10)"
   ]
  },
  {
   "cell_type": "code",
   "execution_count": 46,
   "id": "5d43fc01",
   "metadata": {},
   "outputs": [
    {
     "ename": "IndentationError",
     "evalue": "unexpected indent (3371356519.py, line 8)",
     "output_type": "error",
     "traceback": [
      "\u001b[1;36m  Input \u001b[1;32mIn [46]\u001b[1;36m\u001b[0m\n\u001b[1;33m    driver = webdriver.Chrome(service=Service(ChromeDriverManager().install()))\u001b[0m\n\u001b[1;37m    ^\u001b[0m\n\u001b[1;31mIndentationError\u001b[0m\u001b[1;31m:\u001b[0m unexpected indent\n"
     ]
    }
   ],
   "source": [
    "def get_수사기관사칭형_info():\n",
    "    \n",
    "    list_url     = []     # 주소 리스트\n",
    "    list_content = []     # 본문 리스트\n",
    "    \n",
    "    # 드라이버 실행\n",
    "    driver = webdriver.Chrome(service=Service(ChromeDriverManager().install()))\n",
    "    driver.implicitly_wait(3)\n",
    "    sleeptime = 0.5     # 프로세스 일시 정지 시간\n",
    "    \n",
    "\n",
    "    # 페이지를 돌며 게시글 주소 크롤링\n",
    "    for page in range(1, 24, 1):\n",
    "        try:\n",
    "            # 페이지 이동\n",
    "            driver.get(f'https://www.fss.or.kr/fss/bbs/B0000207/list.do?menuNo=200691&bbsId=&cl1Cd=&pageIndex=1&sdate=&edate=&searchCnd=1&searchWrd={page}')\n",
    "            time.sleep(sleeptime)\n",
    "            print(\"잘된다\")\n",
    "\n",
    "            # 주소 크롤링\n",
    "            current = driver.find_elements_by_css_selector('#head > meta.ogurl')\n",
    "            for url in current:\n",
    "                list_url.append(url.get_attribute('href'))\n",
    "                print(\"여기도 돌아간다\")\n",
    "        except:\n",
    "            pass\n",
    "\n",
    "\n",
    "    # 게시글을 돌며 텍스트 크롤링\n",
    "    for url in list_url:\n",
    "        try:\n",
    "            # 게시물 이동\n",
    "            driver.get(url)\n",
    "            time.sleep(sleeptime)\n",
    "\n",
    "\n",
    "            # 텍스트 크롤링\n",
    "            cur_content = []\n",
    "            current = driver.find_elements_by_css_selector('#contents > div > table > tbody > tr > td > div > p')\n",
    "\n",
    "            # 게시글에 텍스트가 없는 경우\n",
    "            if len(current) == 0:\n",
    "                list_content.append(cur_content)\n",
    "                continue\n",
    "\n",
    "            # 게시글에 텍스트가 있는 경우\n",
    "            for sentence in current:\n",
    "                cur_content.append(sentence.text)\n",
    "            list_content.append(cur_content)\n",
    "        except:\n",
    "            pass\n",
    "    driver.close()\n",
    "\n",
    "\n",
    "    voicephishing_수사기관사칭형 = pd.DataFrame({'주소': list_url, '내용': list_content})\n",
    "    return voicephishing_수사기관사칭형"
   ]
  },
  {
   "cell_type": "code",
   "execution_count": 40,
   "id": "9156837b",
   "metadata": {
    "scrolled": true
   },
   "outputs": [
    {
     "name": "stdout",
     "output_type": "stream",
     "text": [
      "잘된다\n",
      "잘된다\n",
      "잘된다\n",
      "잘된다\n",
      "잘된다\n",
      "잘된다\n",
      "잘된다\n",
      "잘된다\n",
      "잘된다\n",
      "잘된다\n",
      "잘된다\n",
      "잘된다\n",
      "잘된다\n",
      "잘된다\n",
      "잘된다\n",
      "잘된다\n",
      "잘된다\n",
      "잘된다\n",
      "잘된다\n",
      "잘된다\n",
      "잘된다\n",
      "잘된다\n",
      "잘된다\n"
     ]
    }
   ],
   "source": [
    "voicephishing_수사기관사칭형 = get_수사기관사칭형_info()\n",
    "#voicephishing_수사기관사칭형 = pd.read_csv('voicephishing_수사기관사칭형.csv', index_col=0)"
   ]
  },
  {
   "cell_type": "code",
   "execution_count": 39,
   "id": "cfb70e56",
   "metadata": {},
   "outputs": [
    {
     "data": {
      "text/html": [
       "<div>\n",
       "<style scoped>\n",
       "    .dataframe tbody tr th:only-of-type {\n",
       "        vertical-align: middle;\n",
       "    }\n",
       "\n",
       "    .dataframe tbody tr th {\n",
       "        vertical-align: top;\n",
       "    }\n",
       "\n",
       "    .dataframe thead th {\n",
       "        text-align: right;\n",
       "    }\n",
       "</style>\n",
       "<table border=\"1\" class=\"dataframe\">\n",
       "  <thead>\n",
       "    <tr style=\"text-align: right;\">\n",
       "      <th></th>\n",
       "      <th>주소</th>\n",
       "      <th>내용</th>\n",
       "    </tr>\n",
       "  </thead>\n",
       "  <tbody>\n",
       "  </tbody>\n",
       "</table>\n",
       "</div>"
      ],
      "text/plain": [
       "Empty DataFrame\n",
       "Columns: [주소, 내용]\n",
       "Index: []"
      ]
     },
     "execution_count": 39,
     "metadata": {},
     "output_type": "execute_result"
    }
   ],
   "source": [
    "voicephishing_수사기관사칭형.head(10)"
   ]
  },
  {
   "cell_type": "markdown",
   "id": "0b1618f5",
   "metadata": {},
   "source": [
    "### 텍스트 전처리"
   ]
  },
  {
   "cell_type": "code",
   "execution_count": 35,
   "id": "2d1332c0",
   "metadata": {},
   "outputs": [
    {
     "name": "stdout",
     "output_type": "stream",
     "text": [
      " 대출사기형 보이스피싱 텍스트 건수: 0\n",
      " 수사기관사칭형 보이스피싱 텍스트 건수: 0\n"
     ]
    }
   ],
   "source": [
    "# 텍스트 있는 경우만 남김\n",
    "voicephishing_대출사기형_text = list(voicephishing_대출사기형['내용'])\n",
    "voicephishing_대출사기형_text = [i for i in voicephishing_대출사기형_text if i != '[]']\n",
    "len_대출사기형_text = len(voicephishing_대출사기형_text)\n",
    "print(f' 대출사기형 보이스피싱 텍스트 건수: {len_대출사기형_text}')\n",
    "\n",
    "voicephishing_수사기관사칭형_text = list(voicephishing_수사기관사칭형['내용'])\n",
    "voicephishing_수사기관사칭형_text = [i for i in voicephishing_수사기관사칭형_text if i != '[]']\n",
    "len_수사기관사칭형_text = len(voicephishing_수사기관사칭형_text)\n",
    "print(f' 수사기관사칭형 보이스피싱 텍스트 건수: {len_수사기관사칭형_text}')\n",
    "\n",
    "\n",
    "# 문자열의 리스트화\n",
    "for i in range(len_대출사기형_text):\n",
    "    cur_text = voicephishing_대출사기형_text[i]\n",
    "    cur_text = ast.literal_eval(cur_text)\n",
    "    voicephishing_대출사기형_text[i] = cur_text\n",
    "    \n",
    "for i in range(len_수사기관사칭형_text):\n",
    "    cur_text = voicephishing_수사기관사칭형_text[i]\n",
    "    cur_text = ast.literal_eval(cur_text)\n",
    "    voicephishing_수사기관사칭형_text[i] = cur_text"
   ]
  },
  {
   "cell_type": "code",
   "execution_count": 9,
   "id": "b61e998e",
   "metadata": {},
   "outputs": [],
   "source": [
    "# 피해자/사기범 명칭 제거\n",
    "for i in range(len_대출사기형_text):\n",
    "    cur_text = voicephishing_대출사기형_text[i]\n",
    "    \n",
    "    for j in range(len(cur_text)):\n",
    "        # 피해자 명칭 제거\n",
    "        if ('피해자:' in cur_text[j]) or ('피해자 : ' in cur_text[j]):\n",
    "            cur_text[j] = re.sub(r'피해자:', '', cur_text[j])\n",
    "            cur_text[j] = re.sub(r'피해자 : ', '', cur_text[j])\n",
    "            voicephishing_대출사기형_text[i][j] = cur_text[j]\n",
    "            continue\n",
    "            \n",
    "        # 사기범 명칭 제거\n",
    "        if ('사기범:' in cur_text[j]) or ('사기범 : ' in cur_text[j]):\n",
    "            cur_text[j] = re.sub(r'사기범:', '', cur_text[j])\n",
    "            cur_text[j] = re.sub(r'사기범 : ', '', cur_text[j])\n",
    "            voicephishing_대출사기형_text[i][j] = cur_text[j]\n",
    "                \n",
    "                \n",
    "for i in range(len_수사기관사칭형_text):\n",
    "    cur_text = voicephishing_수사기관사칭형_text[i]\n",
    "    \n",
    "    for j in range(len(cur_text)):\n",
    "        # 피해자 명칭 제거\n",
    "        if ('피해자:' in cur_text[j]) or ('피해자 : ' in cur_text[j]):\n",
    "            cur_text[j] = re.sub(r'피해자:', '', cur_text[j])\n",
    "            cur_text[j] = re.sub(r'피해자 : ', '', cur_text[j])\n",
    "            voicephishing_수사기관사칭형_text[i][j] = cur_text[j]\n",
    "            continue\n",
    "            \n",
    "        # 사기범 명칭 제거\n",
    "        if ('사기범:' in cur_text[j]) or ('사기범 : ' in cur_text[j]):\n",
    "            cur_text[j] = re.sub(r'사기범:', '', cur_text[j])\n",
    "            cur_text[j] = re.sub(r'사기범 : ', '', cur_text[j])\n",
    "            voicephishing_수사기관사칭형_text[i][j] = cur_text[j]"
   ]
  },
  {
   "cell_type": "code",
   "execution_count": 10,
   "id": "14ae947b",
   "metadata": {},
   "outputs": [],
   "source": [
    "# 문장 분리\n",
    "for i in range(len_대출사기형_text):\n",
    "    cur_text = voicephishing_대출사기형_text[i]\n",
    "    splited_text = []\n",
    "    \n",
    "    for j in range(len(cur_text)):       \n",
    "        # 문장 분리 후 길이 저장\n",
    "        splited = split_sentences(cur_text[j])\n",
    "        len_splited = len(splited)\n",
    "        \n",
    "        # 길이가 1이면 바로 추가함\n",
    "        if len_splited == 1:\n",
    "            splited_text.append(cur_text[j])\n",
    "        # 길이가 1이 아니면 나눠서 추가함\n",
    "        else:\n",
    "            for k in range(len_splited):\n",
    "                splited_text.append(splited[k])\n",
    "            \n",
    "    # 분리한 문장으로 대체\n",
    "    voicephishing_대출사기형_text[i] = splited_text\n",
    "    \n",
    "    \n",
    "for i in range(len_수사기관사칭형_text):\n",
    "    cur_text = voicephishing_수사기관사칭형_text[i]\n",
    "    splited_text = []\n",
    "    \n",
    "    for j in range(len(cur_text)):       \n",
    "        # 문장 분리 후 길이 저장\n",
    "        splited = split_sentences(cur_text[j])\n",
    "        len_splited = len(splited)\n",
    "        \n",
    "        # 길이가 1이면 바로 추가함\n",
    "        if len_splited == 1:\n",
    "            splited_text.append(cur_text[j])\n",
    "        # 길이가 1이 아니면 나눠서 추가함\n",
    "        else:\n",
    "            for k in range(len_splited):\n",
    "                splited_text.append(splited[k])\n",
    "            \n",
    "    # 분리한 문장으로 대체\n",
    "    voicephishing_수사기관사칭형_text[i] = splited_text"
   ]
  },
  {
   "cell_type": "code",
   "execution_count": 11,
   "id": "13c9c38c",
   "metadata": {},
   "outputs": [],
   "source": [
    "# 욕설 제거\n",
    "for i in range(len_대출사기형_text):\n",
    "    cur_text = voicephishing_대출사기형_text[i]\n",
    "    \n",
    "    for j in range(len(cur_text)):                      \n",
    "        # 욕설 이후 제거\n",
    "        if 'xx' in cur_text[j]:\n",
    "            del voicephishing_대출사기형_text[i][j:]\n",
    "            break\n",
    "                   \n",
    "                \n",
    "for i in range(len_수사기관사칭형_text):\n",
    "    cur_text = voicephishing_수사기관사칭형_text[i]\n",
    "    \n",
    "    for j in range(len(cur_text)):                     \n",
    "        # 욕설 이후 제거\n",
    "        if 'xx' in cur_text[j]:\n",
    "            del voicephishing_수사기관사칭형_text[i][j:]\n",
    "            break"
   ]
  },
  {
   "cell_type": "markdown",
   "id": "75855c84",
   "metadata": {},
   "source": [
    "### 파일 저장"
   ]
  },
  {
   "cell_type": "code",
   "execution_count": 12,
   "id": "a9e5648f",
   "metadata": {},
   "outputs": [
    {
     "name": "stdout",
     "output_type": "stream",
     "text": [
      " 대출사기형 사기범 문장 개수: 10107\n",
      " 수사기관사칭형 사기범 문장 개수: 686\n"
     ]
    }
   ],
   "source": [
    "# 문장당 카운트 횟수\n",
    "countsent_대출사기형 = 0\n",
    "for i in range(len_대출사기형_text):\n",
    "    countsent_대출사기형 += len(voicephishing_대출사기형_text[i])\n",
    "print(f' 대출사기형 사기범 문장 개수: {countsent_대출사기형}')\n",
    "    \n",
    "countsent_수사기관사칭형 = 0\n",
    "for i in range(len_수사기관사칭형_text):\n",
    "    countsent_수사기관사칭형 += len(voicephishing_수사기관사칭형_text[i])\n",
    "print(f' 수사기관사칭형 사기범 문장 개수: {countsent_수사기관사칭형}')"
   ]
  },
  {
   "cell_type": "code",
   "execution_count": 13,
   "id": "79a2d884",
   "metadata": {},
   "outputs": [
    {
     "name": "stdout",
     "output_type": "stream",
     "text": [
      " 보이스피싱 전체 사건 개수: 141\n",
      " 전체 문장 개수: 10793\n"
     ]
    }
   ],
   "source": [
    "# 파일 통합\n",
    "voicephishing_전체_text = voicephishing_대출사기형_text + voicephishing_수사기관사칭형_text\n",
    "len_전체_text = len(voicephishing_전체_text)\n",
    "print(f' 보이스피싱 전체 사건 개수: {len_전체_text}')\n",
    "\n",
    "countsent_전체 = 0\n",
    "for i in range(len_전체_text):\n",
    "    countsent_전체 += len(voicephishing_전체_text[i])\n",
    "print(f' 전체 문장 개수: {countsent_전체}')"
   ]
  },
  {
   "cell_type": "code",
   "execution_count": 41,
   "id": "fbfa0980",
   "metadata": {
    "scrolled": true
   },
   "outputs": [
    {
     "ename": "NameError",
     "evalue": "name 'voicephishing_전체_text' is not defined",
     "output_type": "error",
     "traceback": [
      "\u001b[1;31m---------------------------------------------------------------------------\u001b[0m",
      "\u001b[1;31mNameError\u001b[0m                                 Traceback (most recent call last)",
      "Input \u001b[1;32mIn [41]\u001b[0m, in \u001b[0;36m<cell line: 1>\u001b[1;34m()\u001b[0m\n\u001b[1;32m----> 1\u001b[0m voicephishing_전체 \u001b[38;5;241m=\u001b[39m pd\u001b[38;5;241m.\u001b[39mDataFrame({\u001b[38;5;124m'\u001b[39m\u001b[38;5;124m내용\u001b[39m\u001b[38;5;124m'\u001b[39m: \u001b[43mvoicephishing_전체_text\u001b[49m})\n\u001b[0;32m      2\u001b[0m voicephishing_전체\u001b[38;5;241m.\u001b[39mhead(\u001b[38;5;241m10\u001b[39m)\n",
      "\u001b[1;31mNameError\u001b[0m: name 'voicephishing_전체_text' is not defined"
     ]
    }
   ],
   "source": [
    "voicephishing_전체 = pd.DataFrame({'내용': voicephishing_전체_text})\n",
    "voicephishing_전체.head(10)"
   ]
  },
  {
   "cell_type": "code",
   "execution_count": 15,
   "id": "508ca4d0",
   "metadata": {},
   "outputs": [],
   "source": [
    "# 파일 저장\n",
    "voicephishing_전체.to_csv('voicephishing_전체.csv')"
   ]
  }
 ],
 "metadata": {
  "kernelspec": {
   "display_name": "Python 3 (ipykernel)",
   "language": "python",
   "name": "python3"
  },
  "language_info": {
   "codemirror_mode": {
    "name": "ipython",
    "version": 3
   },
   "file_extension": ".py",
   "mimetype": "text/x-python",
   "name": "python",
   "nbconvert_exporter": "python",
   "pygments_lexer": "ipython3",
   "version": "3.9.13"
  }
 },
 "nbformat": 4,
 "nbformat_minor": 5
}
